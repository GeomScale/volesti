{
 "cells": [
  {
   "cell_type": "markdown",
   "metadata": {},
   "source": [
    "# Metabolic network analysis using *volestipy*"
   ]
  },
  {
   "cell_type": "markdown",
   "metadata": {},
   "source": [
    "Aim of this notebook is to present the complete pipeline for random sampling in a metabolic network using the ```volesitpy``` library. As input, we will use a BIGG model of *E.coli* in its ```.json``` format. \n",
    "\n",
    "Other formats, such as ```.mat``` are supported by ```volestipy``` but this is not in the scope of this tutorial. \n",
    "\n",
    "**Attention!**\n",
    "This tutorial assumes that you have already compiled the ```volestipy``` library, following the steps described [here](https://github.com/hariszaf/volume_approximation_bio/tree/develop/volestipy)."
   ]
  },
  {
   "cell_type": "markdown",
   "metadata": {},
   "source": [
    "## Dependencies"
   ]
  },
  {
   "cell_type": "markdown",
   "metadata": {},
   "source": [
    "With respect to this ```jupyter notebook```.\n",
    "First you need to create a **conda environment** by making use of at least Python 3.6. \n",
    "Then open the notebook using the ```jupyter notebook``` command after entering the conda evironment you built. \n",
    "\n",
    "For example, considering that the base environment of ```conda``` includes Python 3.6:\n",
    "\n",
    "```conda activate```\n",
    "\n",
    "```jupyter notebook```"
   ]
  },
  {
   "cell_type": "markdown",
   "metadata": {},
   "source": [
    "To use Jupyter with a certain conda environment we also need to run the followings:\n",
    "\n",
    "````conda install ipykernel\n",
    "ipython kernel install --name MY_CONDA_ENV --user\n",
    "````"
   ]
  },
  {
   "cell_type": "markdown",
   "metadata": {},
   "source": [
    "Before showing how you can exploit the *volestipy* software, we first need to get all the relative dependencies. \n",
    "\n",
    "This demo uses [Anaconda](https://www.anaconda.com/products/individual) which you can download following [these](https://www.digitalocean.com/community/tutorials/how-to-install-anaconda-on-ubuntu-18-04-quickstart) instructions.\n",
    "\n",
    "Furtheremore, special, powerful mathematical optimization solvers like [Gurobi](https://www.gurobi.com/) are also used. You can get Gurobi following the steps described [here](https://support.gurobi.com/hc/en-us/articles/360044290292-Installing-Gurobi-for-Python). Keep in mind that you will need a Gurobi license. To do this, you need to create a Gurobi user account and then follow the instructions for a license you will find there."
   ]
  },
  {
   "cell_type": "markdown",
   "metadata": {},
   "source": [
    "The main libraries you need to run this pipeline are the following:\n",
    "\n",
    "* ```numpy```\n",
    "* ```gurobipy``` and of course\n",
    "* ```volestipy```\n",
    "\n",
    "You will also need a library for plotting, like ```matplotib``` but this is up to you!"
   ]
  },
  {
   "cell_type": "markdown",
   "metadata": {},
   "source": [
    "To get any libraries that need to run commands as ```sudo``` you need to make a file including **only** your password and replace ```/home/haris/Desktop/running/metabolic_network_pipeline_volestipy/my_project_virtual_env/error.txt``` with the corresponding path. "
   ]
  },
  {
   "cell_type": "markdown",
   "metadata": {},
   "source": [
    "In order to make possible to install what is needed in this conda evironment we use the ```getpass``` library that prompts the user for a password without echoing."
   ]
  },
  {
   "cell_type": "code",
   "execution_count": 3,
   "metadata": {},
   "outputs": [],
   "source": [
    "import sys\n",
    "import getpass \n",
    "import os"
   ]
  },
  {
   "cell_type": "markdown",
   "metadata": {},
   "source": [
    "So, with respect to the ```numpy``` library, let us first get it in our conda environment. \n",
    "This is going to take a while. "
   ]
  },
  {
   "cell_type": "code",
   "execution_count": null,
   "metadata": {},
   "outputs": [],
   "source": [
    "!conda install --yes --prefix {sys.prefix} numpy"
   ]
  },
  {
   "cell_type": "markdown",
   "metadata": {},
   "source": [
    "Now we can import it. "
   ]
  },
  {
   "cell_type": "code",
   "execution_count": 2,
   "metadata": {},
   "outputs": [],
   "source": [
    "import numpy as np"
   ]
  },
  {
   "cell_type": "markdown",
   "metadata": {},
   "source": [
    "Assuming you have already ```gurobipy``` on your computer, you may just add its path on your conda environment with the following command."
   ]
  },
  {
   "cell_type": "code",
   "execution_count": null,
   "metadata": {},
   "outputs": [],
   "source": [
    "sys.path.append('/usr/local/lib/python3.6/dist-packages/gurobipy/')"
   ]
  },
  {
   "cell_type": "markdown",
   "metadata": {},
   "source": [
    "Otherwise, you can install ```gurobipy``` on the conda enviroment directly. "
   ]
  },
  {
   "cell_type": "code",
   "execution_count": null,
   "metadata": {},
   "outputs": [],
   "source": [
    "# Get GUROBI through anaconda - You can find more about installing Gurobi here: \n",
    "# https://support.gurobi.com/hc/en-us/articles/360044290292-Installing-Gurobi-for-Python\n",
    "!conda install -y -c gurobi gurobi\n",
    "print(\"*** The Gurobi solver library has now been installed *** \\n\\n\")"
   ]
  },
  {
   "cell_type": "markdown",
   "metadata": {},
   "source": [
    "After executing one of the above ways to get `gurobipy`, import this library and check if everything is working fine. "
   ]
  },
  {
   "cell_type": "code",
   "execution_count": 4,
   "metadata": {},
   "outputs": [
    {
     "name": "stdout",
     "output_type": "stream",
     "text": [
      "Using license file /home/haris/gurobi.lic\n",
      "Academic license - for non-commercial use only\n",
      "\n",
      "*** Gurobi test has been completed successfully. ***\n",
      "\n"
     ]
    }
   ],
   "source": [
    "import gurobipy as gp\n",
    "from gurobipy import GRB\n",
    "\n",
    "# This is just a test that the Gurobi solver is well installed\n",
    "\n",
    "# Create a new model\n",
    "m = gp.Model(\"mip1\")\n",
    "\n",
    "print(\"\\n*** Gurobi test has been completed successfully. ***\\n\")"
   ]
  },
  {
   "cell_type": "markdown",
   "metadata": {},
   "source": [
    "Likewise, for the `scipy` library. Install it through conda on this environment."
   ]
  },
  {
   "cell_type": "code",
   "execution_count": null,
   "metadata": {},
   "outputs": [],
   "source": [
    "!conda install --yes --prefix {sys.prefix} scipy"
   ]
  },
  {
   "cell_type": "markdown",
   "metadata": {},
   "source": [
    "We do not need to import `scipy` here, however the `volestipy` does that. "
   ]
  },
  {
   "cell_type": "markdown",
   "metadata": {},
   "source": [
    "Finally, we have to compile and then import the ```volestipy``` library. To this end, we first need to get the `cython` library."
   ]
  },
  {
   "cell_type": "code",
   "execution_count": null,
   "metadata": {},
   "outputs": [],
   "source": [
    "pip install Cython"
   ]
  },
  {
   "cell_type": "markdown",
   "metadata": {},
   "source": [
    "And then run the following command as it was from our terminal. It is the `!` that allows for the latter."
   ]
  },
  {
   "cell_type": "code",
   "execution_count": null,
   "metadata": {},
   "outputs": [],
   "source": [
    "!LDFLAGS=\"-L/usr/lib/lp_solve/\" python3 setup.py install --user"
   ]
  },
  {
   "cell_type": "code",
   "execution_count": 5,
   "metadata": {},
   "outputs": [],
   "source": [
    "from volestipy import *"
   ]
  },
  {
   "cell_type": "markdown",
   "metadata": {},
   "source": [
    "Now we are ready to read our network BIGG file and run the necessary steps to get our random points from its correspoding polytope."
   ]
  },
  {
   "cell_type": "markdown",
   "metadata": {},
   "source": [
    "## Read your network file"
   ]
  },
  {
   "cell_type": "markdown",
   "metadata": {},
   "source": [
    "We have downloaded a BIGG model of *E. coli* which you may find [here](http://bigg.ucsd.edu/models/e_coli_core) in its ```.json``` format. We keep this file as a variable. "
   ]
  },
  {
   "cell_type": "code",
   "execution_count": 1,
   "metadata": {},
   "outputs": [],
   "source": [
    "input_file = '/home/haris/bigg_files/e_coli_core.json'"
   ]
  },
  {
   "cell_type": "markdown",
   "metadata": {},
   "source": [
    "And we run the ```volestipy``` function to read it."
   ]
  },
  {
   "cell_type": "code",
   "execution_count": 6,
   "metadata": {},
   "outputs": [
    {
     "name": "stdout",
     "output_type": "stream",
     "text": [
      "read it all\n"
     ]
    }
   ],
   "source": [
    "read_e_coli = read_json_file(input_file)"
   ]
  },
  {
   "cell_type": "markdown",
   "metadata": {},
   "source": [
    "You may see the whole BIGG file, simply by printing the ```read_ecoli_core``` variable. "
   ]
  },
  {
   "cell_type": "code",
   "execution_count": 7,
   "metadata": {
    "collapsed": true
   },
   "outputs": [
    {
     "data": {
      "text/plain": [
       "(array([[ 1.,  0.,  0., ...,  0.,  0.,  0.],\n",
       "        [ 0.,  1.,  0., ...,  0.,  0.,  0.],\n",
       "        [ 0.,  0.,  1., ...,  0.,  0.,  0.],\n",
       "        ...,\n",
       "        [ 0.,  0.,  0., ..., -1.,  0.,  0.],\n",
       "        [ 0.,  0.,  0., ...,  0., -1.,  0.],\n",
       "        [ 0.,  0.,  0., ...,  0.,  0., -1.]]),\n",
       " array([1000.  , 1000.  , 1000.  , 1000.  , 1000.  , 1000.  , 1000.  ,\n",
       "        1000.  , 1000.  , 1000.  , 1000.  , 1000.  , 1000.  , 1000.  ,\n",
       "        1000.  , 1000.  , 1000.  , 1000.  , 1000.  , 1000.  , 1000.  ,\n",
       "        1000.  , 1000.  , 1000.  , 1000.  , 1000.  , 1000.  , 1000.  ,\n",
       "        1000.  , 1000.  , 1000.  , 1000.  , 1000.  , 1000.  , 1000.  ,\n",
       "        1000.  , 1000.  , 1000.  , 1000.  , 1000.  , 1000.  , 1000.  ,\n",
       "        1000.  , 1000.  , 1000.  , 1000.  , 1000.  , 1000.  , 1000.  ,\n",
       "        1000.  , 1000.  , 1000.  , 1000.  , 1000.  , 1000.  , 1000.  ,\n",
       "        1000.  , 1000.  , 1000.  , 1000.  , 1000.  , 1000.  , 1000.  ,\n",
       "        1000.  , 1000.  , 1000.  ,    0.  , 1000.  , 1000.  , 1000.  ,\n",
       "        1000.  , 1000.  , 1000.  , 1000.  , 1000.  , 1000.  , 1000.  ,\n",
       "        1000.  , 1000.  , 1000.  , 1000.  , 1000.  , 1000.  , 1000.  ,\n",
       "        1000.  , 1000.  , 1000.  , 1000.  , 1000.  , 1000.  , 1000.  ,\n",
       "        1000.  , 1000.  , 1000.  , 1000.  ,   -0.  ,   -0.  , 1000.  ,\n",
       "        1000.  ,   -0.  , 1000.  , 1000.  , 1000.  , 1000.  , 1000.  ,\n",
       "        1000.  , 1000.  ,   -0.  , 1000.  , 1000.  ,   -8.39,   -0.  ,\n",
       "        1000.  ,   -0.  , 1000.  ,   -0.  , 1000.  , 1000.  ,   -0.  ,\n",
       "          -0.  , 1000.  , 1000.  , 1000.  ,   -0.  , 1000.  ,   -0.  ,\n",
       "          -0.  , 1000.  , 1000.  ,   -0.  , 1000.  ,   -0.  , 1000.  ,\n",
       "        1000.  ,   -0.  , 1000.  , 1000.  , 1000.  ,   -0.  ,   -0.  ,\n",
       "          -0.  , 1000.  ,   -0.  ,   -0.  ,   -0.  ,   -0.  ,   10.  ,\n",
       "          -0.  ,   -0.  , 1000.  , 1000.  ,   -0.  ,   -0.  , 1000.  ,\n",
       "        1000.  , 1000.  ,   -0.  ,   -0.  , 1000.  ,   -0.  ,   -0.  ,\n",
       "        1000.  ,   -0.  ,   -0.  , 1000.  ,   -0.  , 1000.  , 1000.  ,\n",
       "          -0.  ,   -0.  ,   -0.  , 1000.  ,   -0.  ,   -0.  , 1000.  ,\n",
       "          -0.  , 1000.  , 1000.  ,   -0.  , 1000.  ,   -0.  ,   -0.  ,\n",
       "        1000.  ,   -0.  ,   -0.  ,   -0.  ,   -0.  , 1000.  , 1000.  ,\n",
       "          -0.  ]),\n",
       " array([[ 1.,  0.,  0., ...,  0.,  0.,  0.],\n",
       "        [-1.,  0.,  0., ...,  0.,  0.,  0.],\n",
       "        [-1.,  0.,  1., ...,  0.,  0.,  0.],\n",
       "        ...,\n",
       "        [ 0.,  0.,  0., ...,  0.,  0.,  0.],\n",
       "        [ 0.,  0.,  0., ...,  1.,  0.,  0.],\n",
       "        [ 0.,  0.,  0., ...,  0.,  0.,  0.]]),\n",
       " array([0., 0., 0., 0., 0., 0., 0., 0., 0., 0., 0., 0., 0., 0., 0., 0., 0.,\n",
       "        0., 0., 0., 0., 0., 0., 0., 0., 0., 0., 0., 0., 0., 0., 0., 0., 0.,\n",
       "        0., 0., 0., 0., 0., 0., 0., 0., 0., 0., 0., 0., 0., 0., 0., 0., 0.,\n",
       "        0., 0., 0., 0., 0., 0., 0., 0., 0., 0., 0., 0., 0., 0., 0., 0., 0.,\n",
       "        0., 0., 0., 0.]),\n",
       " ['adp_c',\n",
       "  'atp_c',\n",
       "  'f6p_c',\n",
       "  'fdp_c',\n",
       "  'h_c',\n",
       "  'accoa_c',\n",
       "  'coa_c',\n",
       "  'for_c',\n",
       "  'pyr_c',\n",
       "  'g6p_c',\n",
       "  '13dpg_c',\n",
       "  '3pg_c',\n",
       "  '6pgc_c',\n",
       "  '6pgl_c',\n",
       "  'h2o_c',\n",
       "  'acald_c',\n",
       "  'nad_c',\n",
       "  'nadh_c',\n",
       "  'akg_c',\n",
       "  'akg_e',\n",
       "  'h_e',\n",
       "  '2pg_c',\n",
       "  'pi_c',\n",
       "  'pi_e',\n",
       "  'etoh_c',\n",
       "  'acald_e',\n",
       "  'ac_c',\n",
       "  'actp_c',\n",
       "  'co2_c',\n",
       "  'oaa_c',\n",
       "  'pep_c',\n",
       "  'acon_C_c',\n",
       "  'cit_c',\n",
       "  'icit_c',\n",
       "  'ac_e',\n",
       "  'amp_c',\n",
       "  'succoa_c',\n",
       "  'e4p_c',\n",
       "  'g3p_c',\n",
       "  'gln__L_c',\n",
       "  'glu__L_c',\n",
       "  'nadp_c',\n",
       "  'nadph_c',\n",
       "  'r5p_c',\n",
       "  'pyr_e',\n",
       "  'co2_e',\n",
       "  'ru5p__D_c',\n",
       "  'xu5p__D_c',\n",
       "  'succ_c',\n",
       "  'succ_e',\n",
       "  'o2_c',\n",
       "  'q8_c',\n",
       "  'q8h2_c',\n",
       "  'lac__D_c',\n",
       "  'lac__D_e',\n",
       "  'etoh_e',\n",
       "  'fum_c',\n",
       "  's7p_c',\n",
       "  'dhap_c',\n",
       "  'for_e',\n",
       "  'fru_e',\n",
       "  'fum_e',\n",
       "  'glc__D_e',\n",
       "  'gln__L_e',\n",
       "  'glu__L_e',\n",
       "  'h2o_e',\n",
       "  'mal__L_e',\n",
       "  'nh4_e',\n",
       "  'o2_e',\n",
       "  'mal__L_c',\n",
       "  'nh4_c',\n",
       "  'glx_c'],\n",
       " ['PFK',\n",
       "  'PFL',\n",
       "  'PGI',\n",
       "  'PGK',\n",
       "  'PGL',\n",
       "  'ACALD',\n",
       "  'AKGt2r',\n",
       "  'PGM',\n",
       "  'PIt2r',\n",
       "  'ALCD2x',\n",
       "  'ACALDt',\n",
       "  'ACKr',\n",
       "  'PPC',\n",
       "  'ACONTa',\n",
       "  'ACONTb',\n",
       "  'ATPM',\n",
       "  'PPCK',\n",
       "  'ACt2r',\n",
       "  'PPS',\n",
       "  'ADK1',\n",
       "  'AKGDH',\n",
       "  'ATPS4r',\n",
       "  'PTAr',\n",
       "  'PYK',\n",
       "  'BIOMASS_Ecoli_core_w_GAM',\n",
       "  'PYRt2',\n",
       "  'CO2t',\n",
       "  'RPE',\n",
       "  'CS',\n",
       "  'RPI',\n",
       "  'SUCCt2_2',\n",
       "  'CYTBD',\n",
       "  'D_LACt2',\n",
       "  'ENO',\n",
       "  'SUCCt3',\n",
       "  'ETOHt2r',\n",
       "  'SUCDi',\n",
       "  'SUCOAS',\n",
       "  'TALA',\n",
       "  'THD2',\n",
       "  'TKT1',\n",
       "  'TKT2',\n",
       "  'TPI',\n",
       "  'EX_ac_e',\n",
       "  'EX_acald_e',\n",
       "  'EX_akg_e',\n",
       "  'EX_co2_e',\n",
       "  'EX_etoh_e',\n",
       "  'EX_for_e',\n",
       "  'EX_fru_e',\n",
       "  'EX_fum_e',\n",
       "  'EX_glc__D_e',\n",
       "  'EX_gln__L_e',\n",
       "  'EX_glu__L_e',\n",
       "  'EX_h_e',\n",
       "  'EX_h2o_e',\n",
       "  'EX_lac__D_e',\n",
       "  'EX_mal__L_e',\n",
       "  'EX_nh4_e',\n",
       "  'EX_o2_e',\n",
       "  'EX_pi_e',\n",
       "  'EX_pyr_e',\n",
       "  'EX_succ_e',\n",
       "  'FBA',\n",
       "  'FBP',\n",
       "  'FORt2',\n",
       "  'FORt',\n",
       "  'FRD7',\n",
       "  'FRUpts2',\n",
       "  'FUM',\n",
       "  'FUMt2_2',\n",
       "  'G6PDH2r',\n",
       "  'GAPD',\n",
       "  'GLCpts',\n",
       "  'GLNS',\n",
       "  'GLNabc',\n",
       "  'GLUDy',\n",
       "  'GLUN',\n",
       "  'GLUSy',\n",
       "  'GLUt2r',\n",
       "  'GND',\n",
       "  'H2Ot',\n",
       "  'ICDHyr',\n",
       "  'ICL',\n",
       "  'LDH_D',\n",
       "  'MALS',\n",
       "  'MALt2_2',\n",
       "  'MDH',\n",
       "  'ME1',\n",
       "  'ME2',\n",
       "  'NADH16',\n",
       "  'NADTRHD',\n",
       "  'NH4t',\n",
       "  'O2t',\n",
       "  'PDH'])"
      ]
     },
     "execution_count": 7,
     "metadata": {},
     "output_type": "execute_result"
    }
   ],
   "source": [
    "read_e_coli"
   ]
  },
  {
   "cell_type": "markdown",
   "metadata": {},
   "source": [
    "As the ```read_ecoli_core``` variable is a tuple, we can get its different features in a straight forward way:"
   ]
  },
  {
   "cell_type": "code",
   "execution_count": 8,
   "metadata": {},
   "outputs": [],
   "source": [
    "A = read_e_coli[0]\n",
    "b = read_e_coli[1]\n",
    "Aeq = read_e_coli[2]\n",
    "beq = read_e_coli[3]"
   ]
  },
  {
   "cell_type": "code",
   "execution_count": null,
   "metadata": {},
   "outputs": [],
   "source": [
    "b.shape"
   ]
  },
  {
   "cell_type": "markdown",
   "metadata": {},
   "source": [
    "In the ```Aeq``` variable is the stoichiometric matrix of the metabolic network under study, while in the ```beq``` variable we have its steady state. The variables ```A``` and ```b``` allow us to represent the upper and the lower bounds of the reactions."
   ]
  },
  {
   "cell_type": "markdown",
   "metadata": {},
   "source": [
    "Let's have a look on these variables. ```Aeq``` our stoichiometric matrix has dimensions:"
   ]
  },
  {
   "cell_type": "code",
   "execution_count": null,
   "metadata": {},
   "outputs": [],
   "source": [
    "Aeq.shape"
   ]
  },
  {
   "cell_type": "markdown",
   "metadata": {},
   "source": [
    "meaning we have 72 metabolites that take part in 95 reactions. So, our network is built from these 95 reactions and their corresponding fluxes."
   ]
  },
  {
   "cell_type": "markdown",
   "metadata": {},
   "source": [
    "And let us also keep the reactions of the network in a variable. "
   ]
  },
  {
   "cell_type": "code",
   "execution_count": 9,
   "metadata": {},
   "outputs": [],
   "source": [
    "reactions = read_e_coli[5]"
   ]
  },
  {
   "cell_type": "code",
   "execution_count": 10,
   "metadata": {},
   "outputs": [],
   "source": [
    "atps4r = reactions[21]"
   ]
  },
  {
   "cell_type": "markdown",
   "metadata": {},
   "source": [
    "Now we can proceed in the necessary pre-processing steps for getting the polytope that derives from this metabolic network. "
   ]
  },
  {
   "cell_type": "markdown",
   "metadata": {},
   "source": [
    "## Preprocess"
   ]
  },
  {
   "cell_type": "markdown",
   "metadata": {},
   "source": [
    "In terms of making things faster, we run a pre process step in order to run our pipeline in a more efficient, from a computational point of view, way."
   ]
  },
  {
   "cell_type": "code",
   "execution_count": 11,
   "metadata": {
    "collapsed": true
   },
   "outputs": [
    {
     "name": "stdout",
     "output_type": "stream",
     "text": [
      "Minimize\n",
      "   <gurobi.LinExpr: 0.0>\n",
      "Subject To\n",
      "   c[0] : <gurobi.LinExpr: x[0] + x[3] + x[11] + x[15] + x[16] + 2.0 x[19] + -1.0 x[21] + -1.0 x[23] + 59.81 x[24] + x[37] + x[74] + x[75]> = 0.0\n",
      "   c[1] : <gurobi.LinExpr: -1.0 x[0] + -1.0 x[3] + -1.0 x[11] + -1.0 x[15] + -1.0 x[16] + -1.0 x[18] + -1.0 x[19] + x[21] + x[23] + -59.81 x[24] + -1.0 x[37] + -1.0 x[74] + -1.0 x[75]> = 0.0\n",
      "   c[2] : <gurobi.LinExpr: -1.0 x[0] + x[2] + -0.0709 x[24] + x[38] + x[41] + x[64] + x[68]> = 0.0\n",
      "   c[3] : <gurobi.LinExpr: x[0] + -1.0 x[63] + -1.0 x[64]> = 0.0\n",
      "   c[4] : <gurobi.LinExpr: x[0] + x[4] + x[5] + x[6] + x[8] + x[9] + x[12] + x[15] + x[17] + 2.0 x[18] + 3.0 x[21] + -1.0 x[23] + 59.81 x[24] + x[25] + x[28] + 2.0 x[30] + -2.0 x[31] + x[32] + x[34] + x[35] + 2.0 x[39] + x[65] + 2.0 x[70] + x[71] + x[72] + x[74] + x[75] + x[76] + -1.0 x[78] + x[79] + x[84] + x[85] + 2.0 x[86] + x[87] + -4.0 x[90]> = 0.0\n",
      "   c[5] : <gurobi.LinExpr: x[1] + x[5] + -1.0 x[22] + -3.7478 x[24] + -1.0 x[28] + -1.0 x[85] + x[94]> = 0.0\n",
      "   c[6] : <gurobi.LinExpr: -1.0 x[1] + -1.0 x[5] + -1.0 x[20] + x[22] + 3.7478 x[24] + x[28] + -1.0 x[37] + x[85] + -1.0 x[94]> = 0.0\n",
      "   c[7] : <gurobi.LinExpr: x[1] + x[65] + x[66]> = 0.0\n",
      "   c[8] : <gurobi.LinExpr: -1.0 x[1] + -1.0 x[18] + x[23] + -2.8328 x[24] + x[25] + x[68] + x[73] + x[84] + x[88] + x[89] + -1.0 x[94]> = 0.0\n",
      "   c[9] : <gurobi.LinExpr: -1.0 x[2] + -0.205 x[24] + -1.0 x[71] + x[73]> = 0.0\n",
      "   c[10] : <gurobi.LinExpr: x[3] + x[72]> = 0.0\n",
      "   c[11] : <gurobi.LinExpr: -1.0 x[3] + x[7] + -1.496 x[24]> = 0.0\n",
      "   c[12] : <gurobi.LinExpr: x[4] + -1.0 x[80]> = 0.0\n",
      "   c[13] : <gurobi.LinExpr: -1.0 x[4] + x[71]> = 0.0\n",
      "   c[14] : <gurobi.LinExpr: -1.0 x[4] + -1.0 x[12] + x[13] + -1.0 x[14] + -1.0 x[15] + -1.0 x[18] + x[21] + -59.81 x[24] + -1.0 x[28] + x[31] + x[33] + -1.0 x[64] + -1.0 x[69] + -1.0 x[75] + -1.0 x[76] + -1.0 x[77] + x[81] + -1.0 x[85]> = 0.0\n",
      "   c[15] : <gurobi.LinExpr: -1.0 x[5] + x[9] + x[10]> = 0.0\n",
      "   c[16] : <gurobi.LinExpr: -1.0 x[5] + -1.0 x[9] + -1.0 x[20] + -3.547 x[24] + x[39] + -1.0 x[72] + -1.0 x[84] + -1.0 x[87] + -1.0 x[88] + x[90] + -1.0 x[91] + -1.0 x[94]> = 0.0\n",
      "   c[17] : <gurobi.LinExpr: x[5] + x[9] + x[20] + 3.547 x[24] + -1.0 x[39] + x[72] + x[84] + x[87] + x[88] + -1.0 x[90] + x[91] + x[94]> = 0.0\n",
      "   c[18] : <gurobi.LinExpr: x[6] + -1.0 x[20] + 4.1182 x[24] + x[76] + -1.0 x[78] + x[82]> = 0.0\n",
      "   c[19] : <gurobi.LinExpr: -1.0 x[6] + -1.0 x[45]> = 0.0\n",
      "   c[20] : <gurobi.LinExpr: -1.0 x[6] + -1.0 x[8] + -1.0 x[17] + -4.0 x[21] + -1.0 x[25] + -2.0 x[30] + 2.0 x[31] + -1.0 x[32] + -1.0 x[34] + -1.0 x[35] + -2.0 x[39] + -1.0 x[54] + -1.0 x[65] + -2.0 x[70] + -1.0 x[79] + -2.0 x[86] + 3.0 x[90]> = 0.0\n",
      "   c[21] : <gurobi.LinExpr: -1.0 x[7] + -1.0 x[33]> = 0.0\n",
      "   c[22] : <gurobi.LinExpr: x[8] + x[12] + x[15] + x[18] + -1.0 x[21] + -1.0 x[22] + 59.81 x[24] + x[37] + x[64] + -1.0 x[72] + x[74] + x[75]> = 0.0\n",
      "   c[23] : <gurobi.LinExpr: -1.0 x[8] + -1.0 x[60]> = 0.0\n",
      "   c[24] : <gurobi.LinExpr: -1.0 x[9] + x[35]> = 0.0\n",
      "   c[25] : <gurobi.LinExpr: -1.0 x[10] + -1.0 x[44]> = 0.0\n",
      "   c[26] : <gurobi.LinExpr: -1.0 x[11] + x[17]> = 0.0\n",
      "   c[27] : <gurobi.LinExpr: x[11] + x[22]> = 0.0\n",
      "   c[28] : <gurobi.LinExpr: -1.0 x[12] + x[16] + x[20] + x[26] + x[80] + x[82] + x[88] + x[89] + x[94]> = 0.0\n",
      "   c[29] : <gurobi.LinExpr: x[12] + -1.0 x[16] + -1.7867 x[24] + -1.0 x[28] + x[87]> = 0.0\n",
      "   c[30] : <gurobi.LinExpr: -1.0 x[12] + x[16] + x[18] + -1.0 x[23] + -0.5191 x[24] + x[33] + -1.0 x[68] + -1.0 x[73]> = 0.0\n",
      "   c[31] : <gurobi.LinExpr: x[13] + -1.0 x[14]> = 0.0\n",
      "   c[32] : <gurobi.LinExpr: -1.0 x[13] + x[28]> = 0.0\n",
      "   c[33] : <gurobi.LinExpr: x[14] + -1.0 x[82] + -1.0 x[83]> = 0.0\n",
      "   c[34] : <gurobi.LinExpr: -1.0 x[17] + -1.0 x[43]> = 0.0\n",
      "   c[35] : <gurobi.LinExpr: x[18] + -1.0 x[19]> = 0.0\n",
      "   c[36] : <gurobi.LinExpr: x[20] + x[37]> = 0.0\n",
      "   c[37] : <gurobi.LinExpr: -0.361 x[24] + x[38] + -1.0 x[41]> = 0.0\n",
      "   c[38] : <gurobi.LinExpr: -0.129 x[24] + -1.0 x[38] + x[40] + x[41] + x[42] + x[63] + -1.0 x[72]> = 0.0\n",
      "   c[39] : <gurobi.LinExpr: -0.2557 x[24] + x[74] + x[75] + -1.0 x[77] + -1.0 x[78]> = 0.0\n",
      "   c[40] : <gurobi.LinExpr: -4.9414 x[24] + -1.0 x[74] + -1.0 x[76] + x[77] + 2.0 x[78] + x[79]> = 0.0\n",
      "   c[41] : <gurobi.LinExpr: 13.0279 x[24] + -1.0 x[39] + -1.0 x[71] + -1.0 x[76] + x[78] + -1.0 x[80] + -1.0 x[82] + -1.0 x[89] + x[91]> = 0.0\n",
      "   c[42] : <gurobi.LinExpr: -13.0279 x[24] + x[39] + x[71] + x[76] + -1.0 x[78] + x[80] + x[82] + x[89] + -1.0 x[91]> = 0.0\n",
      "   c[43] : <gurobi.LinExpr: -0.8977 x[24] + -1.0 x[29] + -1.0 x[40]> = 0.0\n",
      "   c[44] : <gurobi.LinExpr: -1.0 x[25] + -1.0 x[61]> = 0.0\n",
      "   c[45] : <gurobi.LinExpr: -1.0 x[26] + -1.0 x[46]> = 0.0\n",
      "   c[46] : <gurobi.LinExpr: -1.0 x[27] + x[29] + x[80]> = 0.0\n",
      "   c[47] : <gurobi.LinExpr: x[27] + -1.0 x[40] + -1.0 x[41]> = 0.0\n",
      "   c[48] : <gurobi.LinExpr: x[30] + -1.0 x[34] + -1.0 x[36] + -1.0 x[37] + x[67] + x[83]> = 0.0\n",
      "   c[49] : <gurobi.LinExpr: -1.0 x[30] + x[34] + -1.0 x[62]> = 0.0\n",
      "   c[50] : <gurobi.LinExpr: -0.5 x[31] + x[93]> = 0.0\n",
      "   c[51] : <gurobi.LinExpr: x[31] + -1.0 x[36] + x[67] + -1.0 x[90]> = 0.0\n",
      "   c[52] : <gurobi.LinExpr: -1.0 x[31] + x[36] + -1.0 x[67] + x[90]> = 0.0\n",
      "   c[53] : <gurobi.LinExpr: x[32] + -1.0 x[84]> = 0.0\n",
      "   c[54] : <gurobi.LinExpr: -1.0 x[32] + -1.0 x[56]> = 0.0\n",
      "   c[55] : <gurobi.LinExpr: -1.0 x[35] + -1.0 x[47]> = 0.0\n",
      "   c[56] : <gurobi.LinExpr: x[36] + -1.0 x[67] + -1.0 x[69] + x[70]> = 0.0\n",
      "   c[57] : <gurobi.LinExpr: -1.0 x[38] + x[40]> = 0.0\n",
      "   c[58] : <gurobi.LinExpr: -1.0 x[42] + x[63]> = 0.0\n",
      "   c[59] : <gurobi.LinExpr: -1.0 x[48] + -1.0 x[65] + -1.0 x[66]> = 0.0\n",
      "   c[60] : <gurobi.LinExpr: -1.0 x[49] + -1.0 x[68]> = 0.0\n",
      "   c[61] : <gurobi.LinExpr: -1.0 x[50] + -1.0 x[70]> = 0.0\n",
      "   c[62] : <gurobi.LinExpr: -1.0 x[51] + -1.0 x[73]> = 0.0\n",
      "   c[63] : <gurobi.LinExpr: -1.0 x[52] + -1.0 x[75]> = 0.0\n",
      "   c[64] : <gurobi.LinExpr: -1.0 x[53] + -1.0 x[79]> = 0.0\n",
      "   c[65] : <gurobi.LinExpr: -1.0 x[55] + -1.0 x[81]> = 0.0\n",
      "   c[66] : <gurobi.LinExpr: -1.0 x[57] + -1.0 x[86]> = 0.0\n",
      "   c[67] : <gurobi.LinExpr: -1.0 x[58] + -1.0 x[92]> = 0.0\n",
      "   c[68] : <gurobi.LinExpr: -1.0 x[59] + -1.0 x[93]> = 0.0\n",
      "   c[69] : <gurobi.LinExpr: x[69] + x[85] + x[86] + -1.0 x[87] + -1.0 x[88] + -1.0 x[89]> = 0.0\n",
      "   c[70] : <gurobi.LinExpr: -1.0 x[74] + x[76] + x[77] + x[92]> = 0.0\n",
      "   c[71] : <gurobi.LinExpr: x[83] + -1.0 x[85]> = 0.0\n",
      "   d[0] : <gurobi.LinExpr: x[0]> <= 1000.0\n",
      "   d[1] : <gurobi.LinExpr: x[1]> <= 1000.0\n",
      "   d[2] : <gurobi.LinExpr: x[2]> <= 1000.0\n",
      "   d[3] : <gurobi.LinExpr: x[3]> <= 1000.0\n",
      "   d[4] : <gurobi.LinExpr: x[4]> <= 1000.0\n",
      "   d[5] : <gurobi.LinExpr: x[5]> <= 1000.0\n",
      "   d[6] : <gurobi.LinExpr: x[6]> <= 1000.0\n",
      "   d[7] : <gurobi.LinExpr: x[7]> <= 1000.0\n",
      "   d[8] : <gurobi.LinExpr: x[8]> <= 1000.0\n",
      "   d[9] : <gurobi.LinExpr: x[9]> <= 1000.0\n",
      "   d[10] : <gurobi.LinExpr: x[10]> <= 1000.0\n",
      "   d[11] : <gurobi.LinExpr: x[11]> <= 1000.0\n",
      "   d[12] : <gurobi.LinExpr: x[12]> <= 1000.0\n",
      "   d[13] : <gurobi.LinExpr: x[13]> <= 1000.0\n",
      "   d[14] : <gurobi.LinExpr: x[14]> <= 1000.0\n",
      "   d[15] : <gurobi.LinExpr: x[15]> <= 1000.0\n",
      "   d[16] : <gurobi.LinExpr: x[16]> <= 1000.0\n",
      "   d[17] : <gurobi.LinExpr: x[17]> <= 1000.0\n",
      "   d[18] : <gurobi.LinExpr: x[18]> <= 1000.0\n",
      "   d[19] : <gurobi.LinExpr: x[19]> <= 1000.0\n",
      "   d[20] : <gurobi.LinExpr: x[20]> <= 1000.0\n",
      "   d[21] : <gurobi.LinExpr: x[21]> <= 1000.0\n",
      "   d[22] : <gurobi.LinExpr: x[22]> <= 1000.0\n",
      "   d[23] : <gurobi.LinExpr: x[23]> <= 1000.0\n",
      "   d[24] : <gurobi.LinExpr: x[24]> <= 1000.0\n",
      "   d[25] : <gurobi.LinExpr: x[25]> <= 1000.0\n",
      "   d[26] : <gurobi.LinExpr: x[26]> <= 1000.0\n",
      "   d[27] : <gurobi.LinExpr: x[27]> <= 1000.0\n",
      "   d[28] : <gurobi.LinExpr: x[28]> <= 1000.0\n",
      "   d[29] : <gurobi.LinExpr: x[29]> <= 1000.0\n",
      "   d[30] : <gurobi.LinExpr: x[30]> <= 1000.0\n",
      "   d[31] : <gurobi.LinExpr: x[31]> <= 1000.0\n",
      "   d[32] : <gurobi.LinExpr: x[32]> <= 1000.0\n",
      "   d[33] : <gurobi.LinExpr: x[33]> <= 1000.0\n",
      "   d[34] : <gurobi.LinExpr: x[34]> <= 1000.0\n",
      "   d[35] : <gurobi.LinExpr: x[35]> <= 1000.0\n",
      "   d[36] : <gurobi.LinExpr: x[36]> <= 1000.0\n",
      "   d[37] : <gurobi.LinExpr: x[37]> <= 1000.0\n",
      "   d[38] : <gurobi.LinExpr: x[38]> <= 1000.0\n",
      "   d[39] : <gurobi.LinExpr: x[39]> <= 1000.0\n",
      "   d[40] : <gurobi.LinExpr: x[40]> <= 1000.0\n",
      "   d[41] : <gurobi.LinExpr: x[41]> <= 1000.0\n",
      "   d[42] : <gurobi.LinExpr: x[42]> <= 1000.0\n",
      "   d[43] : <gurobi.LinExpr: x[43]> <= 1000.0\n",
      "   d[44] : <gurobi.LinExpr: x[44]> <= 1000.0\n",
      "   d[45] : <gurobi.LinExpr: x[45]> <= 1000.0\n",
      "   d[46] : <gurobi.LinExpr: x[46]> <= 1000.0\n",
      "   d[47] : <gurobi.LinExpr: x[47]> <= 1000.0\n",
      "   d[48] : <gurobi.LinExpr: x[48]> <= 1000.0\n",
      "   d[49] : <gurobi.LinExpr: x[49]> <= 1000.0\n",
      "   d[50] : <gurobi.LinExpr: x[50]> <= 1000.0\n",
      "   d[51] : <gurobi.LinExpr: x[51]> <= 1000.0\n",
      "   d[52] : <gurobi.LinExpr: x[52]> <= 1000.0\n",
      "   d[53] : <gurobi.LinExpr: x[53]> <= 1000.0\n",
      "   d[54] : <gurobi.LinExpr: x[54]> <= 1000.0\n",
      "   d[55] : <gurobi.LinExpr: x[55]> <= 1000.0\n",
      "   d[56] : <gurobi.LinExpr: x[56]> <= 1000.0\n",
      "   d[57] : <gurobi.LinExpr: x[57]> <= 1000.0\n",
      "   d[58] : <gurobi.LinExpr: x[58]> <= 1000.0\n",
      "   d[59] : <gurobi.LinExpr: x[59]> <= 1000.0\n",
      "   d[60] : <gurobi.LinExpr: x[60]> <= 1000.0\n",
      "   d[61] : <gurobi.LinExpr: x[61]> <= 1000.0\n",
      "   d[62] : <gurobi.LinExpr: x[62]> <= 1000.0\n",
      "   d[63] : <gurobi.LinExpr: x[63]> <= 1000.0\n",
      "   d[64] : <gurobi.LinExpr: x[64]> <= 1000.0\n",
      "   d[65] : <gurobi.LinExpr: x[65]> <= 1000.0\n",
      "   d[66] : <gurobi.LinExpr: x[66]> <= 0.0\n",
      "   d[67] : <gurobi.LinExpr: x[67]> <= 1000.0\n",
      "   d[68] : <gurobi.LinExpr: x[68]> <= 1000.0\n",
      "   d[69] : <gurobi.LinExpr: x[69]> <= 1000.0\n",
      "   d[70] : <gurobi.LinExpr: x[70]> <= 1000.0\n",
      "   d[71] : <gurobi.LinExpr: x[71]> <= 1000.0\n",
      "   d[72] : <gurobi.LinExpr: x[72]> <= 1000.0\n",
      "   d[73] : <gurobi.LinExpr: x[73]> <= 1000.0\n",
      "   d[74] : <gurobi.LinExpr: x[74]> <= 1000.0\n",
      "   d[75] : <gurobi.LinExpr: x[75]> <= 1000.0\n",
      "   d[76] : <gurobi.LinExpr: x[76]> <= 1000.0\n",
      "   d[77] : <gurobi.LinExpr: x[77]> <= 1000.0\n",
      "   d[78] : <gurobi.LinExpr: x[78]> <= 1000.0\n",
      "   d[79] : <gurobi.LinExpr: x[79]> <= 1000.0\n",
      "   d[80] : <gurobi.LinExpr: x[80]> <= 1000.0\n",
      "   d[81] : <gurobi.LinExpr: x[81]> <= 1000.0\n",
      "   d[82] : <gurobi.LinExpr: x[82]> <= 1000.0\n",
      "   d[83] : <gurobi.LinExpr: x[83]> <= 1000.0\n",
      "   d[84] : <gurobi.LinExpr: x[84]> <= 1000.0\n",
      "   d[85] : <gurobi.LinExpr: x[85]> <= 1000.0\n",
      "   d[86] : <gurobi.LinExpr: x[86]> <= 1000.0\n",
      "   d[87] : <gurobi.LinExpr: x[87]> <= 1000.0\n",
      "   d[88] : <gurobi.LinExpr: x[88]> <= 1000.0\n",
      "   d[89] : <gurobi.LinExpr: x[89]> <= 1000.0\n",
      "   d[90] : <gurobi.LinExpr: x[90]> <= 1000.0\n",
      "   d[91] : <gurobi.LinExpr: x[91]> <= 1000.0\n",
      "   d[92] : <gurobi.LinExpr: x[92]> <= 1000.0\n",
      "   d[93] : <gurobi.LinExpr: x[93]> <= 1000.0\n",
      "   d[94] : <gurobi.LinExpr: x[94]> <= 1000.0\n",
      "   d[95] : <gurobi.LinExpr: -1.0 x[0]> <= -0.0\n",
      "   d[96] : <gurobi.LinExpr: -1.0 x[1]> <= -0.0\n",
      "   d[97] : <gurobi.LinExpr: -1.0 x[2]> <= 1000.0\n",
      "   d[98] : <gurobi.LinExpr: -1.0 x[3]> <= 1000.0\n",
      "   d[99] : <gurobi.LinExpr: -1.0 x[4]> <= -0.0\n",
      "   d[100] : <gurobi.LinExpr: -1.0 x[5]> <= 1000.0\n",
      "   d[101] : <gurobi.LinExpr: -1.0 x[6]> <= 1000.0\n",
      "   d[102] : <gurobi.LinExpr: -1.0 x[7]> <= 1000.0\n",
      "   d[103] : <gurobi.LinExpr: -1.0 x[8]> <= 1000.0\n",
      "   d[104] : <gurobi.LinExpr: -1.0 x[9]> <= 1000.0\n",
      "   d[105] : <gurobi.LinExpr: -1.0 x[10]> <= 1000.0\n",
      "   d[106] : <gurobi.LinExpr: -1.0 x[11]> <= 1000.0\n",
      "   d[107] : <gurobi.LinExpr: -1.0 x[12]> <= -0.0\n",
      "   d[108] : <gurobi.LinExpr: -1.0 x[13]> <= 1000.0\n",
      "   d[109] : <gurobi.LinExpr: -1.0 x[14]> <= 1000.0\n",
      "   d[110] : <gurobi.LinExpr: -1.0 x[15]> <= -8.39\n",
      "   d[111] : <gurobi.LinExpr: -1.0 x[16]> <= -0.0\n",
      "   d[112] : <gurobi.LinExpr: -1.0 x[17]> <= 1000.0\n",
      "   d[113] : <gurobi.LinExpr: -1.0 x[18]> <= -0.0\n",
      "   d[114] : <gurobi.LinExpr: -1.0 x[19]> <= 1000.0\n",
      "   d[115] : <gurobi.LinExpr: -1.0 x[20]> <= -0.0\n",
      "   d[116] : <gurobi.LinExpr: -1.0 x[21]> <= 1000.0\n",
      "   d[117] : <gurobi.LinExpr: -1.0 x[22]> <= 1000.0\n",
      "   d[118] : <gurobi.LinExpr: -1.0 x[23]> <= -0.0\n",
      "   d[119] : <gurobi.LinExpr: -1.0 x[24]> <= -0.0\n",
      "   d[120] : <gurobi.LinExpr: -1.0 x[25]> <= 1000.0\n",
      "   d[121] : <gurobi.LinExpr: -1.0 x[26]> <= 1000.0\n",
      "   d[122] : <gurobi.LinExpr: -1.0 x[27]> <= 1000.0\n",
      "   d[123] : <gurobi.LinExpr: -1.0 x[28]> <= -0.0\n",
      "   d[124] : <gurobi.LinExpr: -1.0 x[29]> <= 1000.0\n",
      "   d[125] : <gurobi.LinExpr: -1.0 x[30]> <= -0.0\n",
      "   d[126] : <gurobi.LinExpr: -1.0 x[31]> <= -0.0\n",
      "   d[127] : <gurobi.LinExpr: -1.0 x[32]> <= 1000.0\n",
      "   d[128] : <gurobi.LinExpr: -1.0 x[33]> <= 1000.0\n",
      "   d[129] : <gurobi.LinExpr: -1.0 x[34]> <= -0.0\n",
      "   d[130] : <gurobi.LinExpr: -1.0 x[35]> <= 1000.0\n",
      "   d[131] : <gurobi.LinExpr: -1.0 x[36]> <= -0.0\n",
      "   d[132] : <gurobi.LinExpr: -1.0 x[37]> <= 1000.0\n",
      "   d[133] : <gurobi.LinExpr: -1.0 x[38]> <= 1000.0\n",
      "   d[134] : <gurobi.LinExpr: -1.0 x[39]> <= -0.0\n",
      "   d[135] : <gurobi.LinExpr: -1.0 x[40]> <= 1000.0\n",
      "   d[136] : <gurobi.LinExpr: -1.0 x[41]> <= 1000.0\n",
      "   d[137] : <gurobi.LinExpr: -1.0 x[42]> <= 1000.0\n",
      "   d[138] : <gurobi.LinExpr: -1.0 x[43]> <= -0.0\n",
      "   d[139] : <gurobi.LinExpr: -1.0 x[44]> <= -0.0\n",
      "   d[140] : <gurobi.LinExpr: -1.0 x[45]> <= -0.0\n",
      "   d[141] : <gurobi.LinExpr: -1.0 x[46]> <= 1000.0\n",
      "   d[142] : <gurobi.LinExpr: -1.0 x[47]> <= -0.0\n",
      "   d[143] : <gurobi.LinExpr: -1.0 x[48]> <= -0.0\n",
      "   d[144] : <gurobi.LinExpr: -1.0 x[49]> <= -0.0\n",
      "   d[145] : <gurobi.LinExpr: -1.0 x[50]> <= -0.0\n",
      "   d[146] : <gurobi.LinExpr: -1.0 x[51]> <= 10.0\n",
      "   d[147] : <gurobi.LinExpr: -1.0 x[52]> <= -0.0\n"
     ]
    },
    {
     "name": "stdout",
     "output_type": "stream",
     "text": [
      "   d[148] : <gurobi.LinExpr: -1.0 x[53]> <= -0.0\n",
      "   d[149] : <gurobi.LinExpr: -1.0 x[54]> <= 1000.0\n",
      "   d[150] : <gurobi.LinExpr: -1.0 x[55]> <= 1000.0\n",
      "   d[151] : <gurobi.LinExpr: -1.0 x[56]> <= -0.0\n",
      "   d[152] : <gurobi.LinExpr: -1.0 x[57]> <= -0.0\n",
      "   d[153] : <gurobi.LinExpr: -1.0 x[58]> <= 1000.0\n",
      "   d[154] : <gurobi.LinExpr: -1.0 x[59]> <= 1000.0\n",
      "   d[155] : <gurobi.LinExpr: -1.0 x[60]> <= 1000.0\n",
      "   d[156] : <gurobi.LinExpr: -1.0 x[61]> <= -0.0\n",
      "   d[157] : <gurobi.LinExpr: -1.0 x[62]> <= -0.0\n",
      "   d[158] : <gurobi.LinExpr: -1.0 x[63]> <= 1000.0\n",
      "   d[159] : <gurobi.LinExpr: -1.0 x[64]> <= -0.0\n",
      "   d[160] : <gurobi.LinExpr: -1.0 x[65]> <= -0.0\n",
      "   d[161] : <gurobi.LinExpr: -1.0 x[66]> <= 1000.0\n",
      "   d[162] : <gurobi.LinExpr: -1.0 x[67]> <= -0.0\n",
      "   d[163] : <gurobi.LinExpr: -1.0 x[68]> <= -0.0\n",
      "   d[164] : <gurobi.LinExpr: -1.0 x[69]> <= 1000.0\n",
      "   d[165] : <gurobi.LinExpr: -1.0 x[70]> <= -0.0\n",
      "   d[166] : <gurobi.LinExpr: -1.0 x[71]> <= 1000.0\n",
      "   d[167] : <gurobi.LinExpr: -1.0 x[72]> <= 1000.0\n",
      "   d[168] : <gurobi.LinExpr: -1.0 x[73]> <= -0.0\n",
      "   d[169] : <gurobi.LinExpr: -1.0 x[74]> <= -0.0\n",
      "   d[170] : <gurobi.LinExpr: -1.0 x[75]> <= -0.0\n",
      "   d[171] : <gurobi.LinExpr: -1.0 x[76]> <= 1000.0\n",
      "   d[172] : <gurobi.LinExpr: -1.0 x[77]> <= -0.0\n",
      "   d[173] : <gurobi.LinExpr: -1.0 x[78]> <= -0.0\n",
      "   d[174] : <gurobi.LinExpr: -1.0 x[79]> <= 1000.0\n",
      "   d[175] : <gurobi.LinExpr: -1.0 x[80]> <= -0.0\n",
      "   d[176] : <gurobi.LinExpr: -1.0 x[81]> <= 1000.0\n",
      "   d[177] : <gurobi.LinExpr: -1.0 x[82]> <= 1000.0\n",
      "   d[178] : <gurobi.LinExpr: -1.0 x[83]> <= -0.0\n",
      "   d[179] : <gurobi.LinExpr: -1.0 x[84]> <= 1000.0\n",
      "   d[180] : <gurobi.LinExpr: -1.0 x[85]> <= -0.0\n",
      "   d[181] : <gurobi.LinExpr: -1.0 x[86]> <= -0.0\n",
      "   d[182] : <gurobi.LinExpr: -1.0 x[87]> <= 1000.0\n",
      "   d[183] : <gurobi.LinExpr: -1.0 x[88]> <= -0.0\n",
      "   d[184] : <gurobi.LinExpr: -1.0 x[89]> <= -0.0\n",
      "   d[185] : <gurobi.LinExpr: -1.0 x[90]> <= -0.0\n",
      "   d[186] : <gurobi.LinExpr: -1.0 x[91]> <= -0.0\n",
      "   d[187] : <gurobi.LinExpr: -1.0 x[92]> <= 1000.0\n",
      "   d[188] : <gurobi.LinExpr: -1.0 x[93]> <= 1000.0\n",
      "   d[189] : <gurobi.LinExpr: -1.0 x[94]> <= -0.0\n",
      "Bounds\n",
      "   x[0]  free\n",
      "   x[1]  free\n",
      "   x[2]  free\n",
      "   x[3]  free\n",
      "   x[4]  free\n",
      "   x[5]  free\n",
      "   x[6]  free\n",
      "   x[7]  free\n",
      "   x[8]  free\n",
      "   x[9]  free\n",
      "   x[10]  free\n",
      "   x[11]  free\n",
      "   x[12]  free\n",
      "   x[13]  free\n",
      "   x[14]  free\n",
      "   x[15]  free\n",
      "   x[16]  free\n",
      "   x[17]  free\n",
      "   x[18]  free\n",
      "   x[19]  free\n",
      "   x[20]  free\n",
      "   x[21]  free\n",
      "   x[22]  free\n",
      "   x[23]  free\n",
      "   x[24]  free\n",
      "   x[25]  free\n",
      "   x[26]  free\n",
      "   x[27]  free\n",
      "   x[28]  free\n",
      "   x[29]  free\n",
      "   x[30]  free\n",
      "   x[31]  free\n",
      "   x[32]  free\n",
      "   x[33]  free\n",
      "   x[34]  free\n",
      "   x[35]  free\n",
      "   x[36]  free\n",
      "   x[37]  free\n",
      "   x[38]  free\n",
      "   x[39]  free\n",
      "   x[40]  free\n",
      "   x[41]  free\n",
      "   x[42]  free\n",
      "   x[43]  free\n",
      "   x[44]  free\n",
      "   x[45]  free\n",
      "   x[46]  free\n",
      "   x[47]  free\n",
      "   x[48]  free\n",
      "   x[49]  free\n",
      "   x[50]  free\n",
      "   x[51]  free\n",
      "   x[52]  free\n",
      "   x[53]  free\n",
      "   x[54]  free\n",
      "   x[55]  free\n",
      "   x[56]  free\n",
      "   x[57]  free\n",
      "   x[58]  free\n",
      "   x[59]  free\n",
      "   x[60]  free\n",
      "   x[61]  free\n",
      "   x[62]  free\n",
      "   x[63]  free\n",
      "   x[64]  free\n",
      "   x[65]  free\n",
      "   x[66]  free\n",
      "   x[67]  free\n",
      "   x[68]  free\n",
      "   x[69]  free\n",
      "   x[70]  free\n",
      "   x[71]  free\n",
      "   x[72]  free\n",
      "   x[73]  free\n",
      "   x[74]  free\n",
      "   x[75]  free\n",
      "   x[76]  free\n",
      "   x[77]  free\n",
      "   x[78]  free\n",
      "   x[79]  free\n",
      "   x[80]  free\n",
      "   x[81]  free\n",
      "   x[82]  free\n",
      "   x[83]  free\n",
      "   x[84]  free\n",
      "   x[85]  free\n",
      "   x[86]  free\n",
      "   x[87]  free\n",
      "   x[88]  free\n",
      "   x[89]  free\n",
      "   x[90]  free\n",
      "   x[91]  free\n",
      "   x[92]  free\n",
      "   x[93]  free\n",
      "   x[94]  free\n"
     ]
    }
   ],
   "source": [
    "proc = pre_process(A, b, Aeq, beq)"
   ]
  },
  {
   "cell_type": "markdown",
   "metadata": {},
   "source": [
    "From this, we get the processed A, b, Aeq and beq and we keep them in distinct variables correspodingly."
   ]
  },
  {
   "cell_type": "code",
   "execution_count": 12,
   "metadata": {},
   "outputs": [],
   "source": [
    "A_proc = proc[0]\n",
    "b_proc = proc[1]\n",
    "Aeq_proc = proc[2]\n",
    "beq_proc = proc[3]"
   ]
  },
  {
   "cell_type": "markdown",
   "metadata": {},
   "source": [
    "In case you the ```pre_process``` step had already run, you may load its output using the following commands:"
   ]
  },
  {
   "cell_type": "code",
   "execution_count": null,
   "metadata": {},
   "outputs": [],
   "source": [
    "A_proc = np.load('/home/haris/Documents/GitHub/volesti_fork/volestipy/tests/A_preprocessed.npy')\n",
    "b_proc = np.load('/home/haris/Documents/GitHub/volesti_fork/volestipy/tests/b_preprocessed.npy')\n",
    "Aeq_proc = np.load('/home/haris/Documents/GitHub/volesti_fork/volestipy/tests/Aeq_preprocessed.npy')\n",
    "beq_proc = np.load('/home/haris/Documents/GitHub/volesti_fork/volestipy/tests/beq_preprocessed.npy')"
   ]
  },
  {
   "cell_type": "code",
   "execution_count": null,
   "metadata": {},
   "outputs": [],
   "source": [
    "Aeq_proc.shape"
   ]
  },
  {
   "cell_type": "markdown",
   "metadata": {},
   "source": [
    "## Full dimensional (not always required step)"
   ]
  },
  {
   "cell_type": "markdown",
   "metadata": {},
   "source": [
    "Now we are able to use the pre processed polytope to get the full dimensional polytope that derives from our initial one. To this end we first build an object for the ```low_dim_HPolytope``` class for the pre-processed polytope. "
   ]
  },
  {
   "cell_type": "code",
   "execution_count": 14,
   "metadata": {},
   "outputs": [],
   "source": [
    "low_hp = low_dim_HPolytope(A_proc, b_proc, Aeq_proc, beq_proc)"
   ]
  },
  {
   "cell_type": "markdown",
   "metadata": {},
   "source": [
    "And then we run the ```full_dimensiolal_polytope``` function of ```volestipy``` to get it. "
   ]
  },
  {
   "cell_type": "code",
   "execution_count": 15,
   "metadata": {},
   "outputs": [],
   "source": [
    "get_fd_hp = low_hp.full_dimensiolal_polytope()\n",
    "\n",
    "A_fd = get_fd_hp[0].A\n",
    "b_fd = get_fd_hp[0].b\n",
    "N = get_fd_hp[1]\n",
    "N_shift = get_fd_hp[2]"
   ]
  },
  {
   "cell_type": "markdown",
   "metadata": {},
   "source": [
    "Once we have the full dimensional polytope, we are able to get the max ball of that."
   ]
  },
  {
   "cell_type": "code",
   "execution_count": 16,
   "metadata": {},
   "outputs": [],
   "source": [
    "max_ball_center_point, max_ball_radius = get_max_ball(A_fd, b_fd)"
   ]
  },
  {
   "cell_type": "markdown",
   "metadata": {},
   "source": [
    "Now we can use this max ball for rounding the full dimensional polytope. "
   ]
  },
  {
   "cell_type": "markdown",
   "metadata": {},
   "source": [
    "## Rounding"
   ]
  },
  {
   "cell_type": "markdown",
   "metadata": {},
   "source": [
    "Using the A and b of the full dimensional polytope, we build a new HPolytope object."
   ]
  },
  {
   "cell_type": "code",
   "execution_count": 17,
   "metadata": {},
   "outputs": [],
   "source": [
    "hp = HPolytope(A_fd, b_fd)"
   ]
  },
  {
   "cell_type": "markdown",
   "metadata": {},
   "source": [
    "And we use the max ball to round it."
   ]
  },
  {
   "cell_type": "code",
   "execution_count": 18,
   "metadata": {},
   "outputs": [],
   "source": [
    "rounding_output_max_ellipsoid = hp.rounding(rounding_method = \"max_ellipsoid\", \n",
    "                                            inner_point = max_ball_center_point, \n",
    "                                            radius = max_ball_radius)"
   ]
  },
  {
   "cell_type": "markdown",
   "metadata": {},
   "source": [
    "We can now get the features or the rounded polytope."
   ]
  },
  {
   "cell_type": "code",
   "execution_count": 19,
   "metadata": {},
   "outputs": [],
   "source": [
    "rounded_A = rounding_output_max_ellipsoid[0]\n",
    "rounded_b = rounding_output_max_ellipsoid[1]\n",
    "rounded_T = rounding_output_max_ellipsoid[2]\n",
    "rounded_shift = rounding_output_max_ellipsoid[3]"
   ]
  },
  {
   "cell_type": "markdown",
   "metadata": {},
   "source": [
    "And use the to get the max ball of this full dimensional, rounded polytope."
   ]
  },
  {
   "cell_type": "code",
   "execution_count": 20,
   "metadata": {},
   "outputs": [],
   "source": [
    "rounded_center_point, rounded_radius = get_max_ball(rounded_A, rounded_b)"
   ]
  },
  {
   "cell_type": "markdown",
   "metadata": {},
   "source": [
    "Let's have a look at that:"
   ]
  },
  {
   "cell_type": "code",
   "execution_count": 21,
   "metadata": {},
   "outputs": [
    {
     "data": {
      "text/plain": [
       "[-1.0827203738869838e-08,\n",
       " 5.46699607224613e-09,\n",
       " -1.9440816473264214e-09,\n",
       " 4.202258767454394e-09,\n",
       " -5.720196183334541e-09,\n",
       " -2.34495800347931e-09,\n",
       " 3.4714599880184695e-09,\n",
       " -1.0610740112672796e-10,\n",
       " 1.5374959601778526e-09,\n",
       " 6.363085780165716e-09,\n",
       " 7.47879143571297e-09,\n",
       " 4.875192491832598e-10,\n",
       " -1.5540451275577207e-09,\n",
       " 1.8233604962779356e-09,\n",
       " -6.1940535936238185e-09,\n",
       " -3.027059547527763e-10,\n",
       " 5.372701921624584e-09,\n",
       " 1.8968608527828443e-09,\n",
       " 8.502848362572111e-10,\n",
       " 1.4118646354600406e-09,\n",
       " -6.156855514982069e-10,\n",
       " 8.125766689870477e-10,\n",
       " 5.389284100671947e-10,\n",
       " -1.7114008103486753e-10]"
      ]
     },
     "execution_count": 21,
     "metadata": {},
     "output_type": "execute_result"
    }
   ],
   "source": [
    "rounded_center_point"
   ]
  },
  {
   "cell_type": "code",
   "execution_count": 22,
   "metadata": {},
   "outputs": [
    {
     "data": {
      "text/plain": [
       "1.0000000081541534"
      ]
     },
     "execution_count": 22,
     "metadata": {},
     "output_type": "execute_result"
    }
   ],
   "source": [
    "rounded_radius"
   ]
  },
  {
   "cell_type": "markdown",
   "metadata": {},
   "source": [
    "## Sampling"
   ]
  },
  {
   "cell_type": "markdown",
   "metadata": {},
   "source": [
    "Finally, we build the full dimenionsal rounded polytope. "
   ]
  },
  {
   "cell_type": "code",
   "execution_count": 23,
   "metadata": {},
   "outputs": [],
   "source": [
    "rounded_polytope = HPolytope(rounded_A, rounded_b)"
   ]
  },
  {
   "cell_type": "markdown",
   "metadata": {},
   "source": [
    "Keep the dimension of the rounded polytope"
   ]
  },
  {
   "cell_type": "code",
   "execution_count": 24,
   "metadata": {},
   "outputs": [
    {
     "data": {
      "text/plain": [
       "24"
      ]
     },
     "execution_count": 24,
     "metadata": {},
     "output_type": "execute_result"
    }
   ],
   "source": [
    "d = rounded_polytope.dimensions\n",
    "d"
   ]
  },
  {
   "cell_type": "markdown",
   "metadata": {},
   "source": [
    "And calculate the value of the L parameter for the sampling function according the following formula:"
   ]
  },
  {
   "cell_type": "code",
   "execution_count": 25,
   "metadata": {},
   "outputs": [],
   "source": [
    "L_value = 4 * d * rounded_radius"
   ]
  },
  {
   "cell_type": "markdown",
   "metadata": {},
   "source": [
    "And using the latter max ball, we sample on it"
   ]
  },
  {
   "cell_type": "code",
   "execution_count": 26,
   "metadata": {},
   "outputs": [],
   "source": [
    "samples = rounded_polytope.generate_samples(walk_len = 5, \n",
    "                                            number_of_points = 10000, \n",
    "                                            number_of_points_to_burn = 50, \n",
    "                                            radius = rounded_radius, \n",
    "                                            inner_point = rounded_center_point,\n",
    "                                            L = L_value)"
   ]
  },
  {
   "cell_type": "markdown",
   "metadata": {},
   "source": [
    "And these are the points sampled: "
   ]
  },
  {
   "cell_type": "code",
   "execution_count": 27,
   "metadata": {},
   "outputs": [
    {
     "data": {
      "text/plain": [
       "array([[-1.08272037e-08,  5.46699607e-09, -1.94408165e-09, ...,\n",
       "        -3.83700337e-01,  5.38928410e-10, -1.71140081e-10],\n",
       "       [-1.08272037e-08,  5.46699607e-09, -1.94408165e-09, ...,\n",
       "        -3.83700337e-01,  5.38928410e-10, -1.71140081e-10],\n",
       "       [-1.08272037e-08,  5.46699607e-09,  5.03033014e-01, ...,\n",
       "        -3.83700337e-01,  1.45401219e-02, -1.71140081e-10],\n",
       "       ...,\n",
       "       [-7.39181088e-01,  5.91825249e-01, -1.54594975e-01, ...,\n",
       "        -5.91470135e-01,  8.16609257e-01, -2.23777838e+00],\n",
       "       [-7.39181088e-01,  5.91825249e-01, -1.54594975e-01, ...,\n",
       "        -5.91470135e-01,  8.16609257e-01, -2.23777838e+00],\n",
       "       [-7.39181088e-01,  5.91825249e-01, -1.54594975e-01, ...,\n",
       "        -5.91470135e-01,  8.16609257e-01, -2.23777838e+00]])"
      ]
     },
     "execution_count": 27,
     "metadata": {},
     "output_type": "execute_result"
    }
   ],
   "source": [
    "samples"
   ]
  },
  {
   "cell_type": "markdown",
   "metadata": {},
   "source": [
    "However, these samples \"live\" in the world of the rounded, full dimensional polytope. Thus, we need to map them back in our initial polyopte. To do that we run one last ```volestipy``` function, using the features returned from the ```rounding``` and the ```full_dimensional``` functions. "
   ]
  },
  {
   "cell_type": "code",
   "execution_count": 28,
   "metadata": {},
   "outputs": [],
   "source": [
    "mapped_samples = map_samples_on_initial_polytope(samples, rounded_T, rounded_shift, N, N_shift)"
   ]
  },
  {
   "cell_type": "markdown",
   "metadata": {},
   "source": [
    "Let's have a look on our final points and their dimension. "
   ]
  },
  {
   "cell_type": "code",
   "execution_count": 29,
   "metadata": {},
   "outputs": [
    {
     "data": {
      "text/plain": [
       "(95, 10000)"
      ]
     },
     "execution_count": 29,
     "metadata": {},
     "output_type": "execute_result"
    }
   ],
   "source": [
    "mapped_samples.shape"
   ]
  },
  {
   "cell_type": "markdown",
   "metadata": {},
   "source": [
    "## Analysis, plots etc."
   ]
  },
  {
   "cell_type": "markdown",
   "metadata": {},
   "source": [
    "We will use the ```matplotlib``` library to plot our random samples. First, we download it to our environment."
   ]
  },
  {
   "cell_type": "code",
   "execution_count": 31,
   "metadata": {
    "collapsed": true
   },
   "outputs": [
    {
     "name": "stdout",
     "output_type": "stream",
     "text": [
      "Collecting matplotlib\n",
      "  Using cached matplotlib-3.3.2-cp36-cp36m-manylinux1_x86_64.whl (11.6 MB)\n",
      "Collecting kiwisolver>=1.0.1\n",
      "  Using cached kiwisolver-1.2.0-cp36-cp36m-manylinux1_x86_64.whl (88 kB)\n",
      "Collecting cycler>=0.10\n",
      "  Using cached cycler-0.10.0-py2.py3-none-any.whl (6.5 kB)\n",
      "Collecting pillow>=6.2.0\n",
      "  Using cached Pillow-7.2.0-cp36-cp36m-manylinux1_x86_64.whl (2.2 MB)\n",
      "Requirement already satisfied: python-dateutil>=2.1 in /home/haris/.local/lib/python3.6/site-packages (from matplotlib) (2.8.0)\n",
      "Requirement already satisfied: pyparsing!=2.0.4,!=2.1.2,!=2.1.6,>=2.0.3 in /home/haris/.local/lib/python3.6/site-packages (from matplotlib) (2.4.0)\n",
      "Requirement already satisfied: numpy>=1.15 in /home/haris/anaconda3/envs/py36/lib/python3.6/site-packages (from matplotlib) (1.19.1)\n",
      "Collecting certifi>=2020.06.20\n",
      "  Downloading certifi-2020.6.20-py2.py3-none-any.whl (156 kB)\n",
      "\u001b[K     |████████████████████████████████| 156 kB 576 kB/s eta 0:00:01\n",
      "\u001b[?25hRequirement already satisfied: six in /home/haris/.local/lib/python3.6/site-packages (from cycler>=0.10->matplotlib) (1.12.0)\n",
      "Installing collected packages: kiwisolver, cycler, pillow, certifi, matplotlib\n",
      "  Attempting uninstall: certifi\n",
      "    Found existing installation: certifi 2019.6.16\n",
      "    Uninstalling certifi-2019.6.16:\n",
      "      Successfully uninstalled certifi-2019.6.16\n",
      "\u001b[31mERROR: After October 2020 you may experience errors when installing or updating packages. This is because pip will change the way that it resolves dependency conflicts.\n",
      "\n",
      "We recommend you use --use-feature=2020-resolver to test your packages with the new resolver before it becomes the default.\n",
      "\n",
      "requests 2.22.0 requires chardet<3.1.0,>=3.0.2, which is not installed.\n",
      "cwltool 1.0.20190621234233 requires future, which is not installed.\u001b[0m\n",
      "Successfully installed certifi-2020.6.20 cycler-0.10.0 kiwisolver-1.2.0 matplotlib-3.3.2 pillow-7.2.0\n",
      "Note: you may need to restart the kernel to use updated packages.\n"
     ]
    }
   ],
   "source": [
    "pip install matplotlib"
   ]
  },
  {
   "cell_type": "markdown",
   "metadata": {},
   "source": [
    "Now we can import it."
   ]
  },
  {
   "cell_type": "code",
   "execution_count": 32,
   "metadata": {},
   "outputs": [],
   "source": [
    "import matplotlib.pyplot as plt"
   ]
  },
  {
   "cell_type": "markdown",
   "metadata": {},
   "source": [
    "Let us assume now that we are insteresd in the Ethanol reversible transport via proton symport reaction. This is called ```ETOHt2r```. As you can see, this is the 36th element in our ```reactions``` list."
   ]
  },
  {
   "cell_type": "code",
   "execution_count": 33,
   "metadata": {},
   "outputs": [
    {
     "data": {
      "text/plain": [
       "'PTAr'"
      ]
     },
     "execution_count": 33,
     "metadata": {},
     "output_type": "execute_result"
    }
   ],
   "source": [
    "reactions[22]"
   ]
  },
  {
   "cell_type": "markdown",
   "metadata": {},
   "source": [
    "We keep all the fluxes' values from the points sampled for this reactions in a variable. And we print its shape to be sure that we have got this right."
   ]
  },
  {
   "cell_type": "code",
   "execution_count": 34,
   "metadata": {},
   "outputs": [
    {
     "data": {
      "text/plain": [
       "(10000,)"
      ]
     },
     "execution_count": 34,
     "metadata": {},
     "output_type": "execute_result"
    }
   ],
   "source": [
    "fluxes = mapped_samples[22,:]\n",
    "fluxes.shape"
   ]
  },
  {
   "cell_type": "markdown",
   "metadata": {},
   "source": [
    "Now we can get the minimum and the maximum value of ETOHt2r flux."
   ]
  },
  {
   "cell_type": "code",
   "execution_count": 35,
   "metadata": {},
   "outputs": [
    {
     "data": {
      "text/plain": [
       "(8.488618241774088, -4.3178112120710377e-14)"
      ]
     },
     "execution_count": 35,
     "metadata": {},
     "output_type": "execute_result"
    }
   ],
   "source": [
    "maxElement = np.amax(fluxes)\n",
    "minElement = np.amin(fluxes)\n",
    "maxElement, minElement"
   ]
  },
  {
   "cell_type": "markdown",
   "metadata": {},
   "source": [
    "And now we may plot our samples! "
   ]
  },
  {
   "cell_type": "code",
   "execution_count": 40,
   "metadata": {},
   "outputs": [
    {
     "data": {
      "image/png": "[encoded data removed]",
      "text/plain": [
       "<Figure size 432x288 with 1 Axes>"
      ]
     },
     "metadata": {
      "needs_background": "light"
     },
     "output_type": "display_data"
    }
   ],
   "source": [
    "x = np.array([x for x in range(samples.shape[0])])\n",
    "plt.plot(x, fluxes)\n",
    "plt.show()"
   ]
  },
  {
   "cell_type": "markdown",
   "metadata": {},
   "source": [
    "And also as an histogram!"
   ]
  },
  {
   "cell_type": "code",
   "execution_count": 41,
   "metadata": {
    "scrolled": false
   },
   "outputs": [
    {
     "data": {
      "text/plain": [
       "<function matplotlib.pyplot.show(close=None, block=None)>"
      ]
     },
     "execution_count": 41,
     "metadata": {},
     "output_type": "execute_result"
    },
    {
     "data": {
      "image/png": "[encoded data removed]",
      "text/plain": [
       "<Figure size 432x288 with 1 Axes>"
      ]
     },
     "metadata": {
      "needs_background": "light"
     },
     "output_type": "display_data"
    }
   ],
   "source": [
    "plt.hist(fluxes, bins='auto', histtype='bar', rwidth=0.7)\n",
    "plt.show"
   ]
  },
  {
   "cell_type": "code",
   "execution_count": null,
   "metadata": {},
   "outputs": [],
   "source": []
  },
  {
   "cell_type": "code",
   "execution_count": null,
   "metadata": {},
   "outputs": [],
   "source": []
  },
  {
   "cell_type": "code",
   "execution_count": null,
   "metadata": {},
   "outputs": [],
   "source": []
  },
  {
   "cell_type": "code",
   "execution_count": null,
   "metadata": {},
   "outputs": [],
   "source": []
  },
  {
   "cell_type": "code",
   "execution_count": null,
   "metadata": {},
   "outputs": [],
   "source": []
  },
  {
   "cell_type": "markdown",
   "metadata": {},
   "source": [
    "## Extras"
   ]
  },
  {
   "cell_type": "markdown",
   "metadata": {},
   "source": [
    "In case you need to work with ```.mat``` files you need to implement some further steps that are not in the interest of this tutorial. \n",
    "\n",
    "To read a ```.mat``` file you need some extra Python libraries, as it is quite a challenging task. If you are more interested in that, you can read this article [here](https://scipy-cookbook.readthedocs.io/items/Reading_mat_files.html)."
   ]
  },
  {
   "cell_type": "code",
   "execution_count": null,
   "metadata": {},
   "outputs": [],
   "source": [
    "## Get the h5py library in case you are working with .mat files of 7.3 release of Matlab and after \n",
    "#!sudo -H -S pip install h5py < /home/haris/Desktop/running/metabolic_network_pipeline_volestipy/\\\n",
    "#my_project_virtual_env/error.txt\n",
    "#print(\"*** The h5py library has now been installed *** \\n\\n\")"
   ]
  },
  {
   "cell_type": "code",
   "execution_count": null,
   "metadata": {},
   "outputs": [],
   "source": [
    "## Get the tables library to read .mat files\n",
    "#!sudo -H -S pip3 install tables < /home/haris/Desktop/running/metabolic_network_pipeline_volestipy\\\n",
    "#/my_project_virtual_env/error.txt\n",
    "#print(\"*** The tables library has now been installed *** \\n\\n\")"
   ]
  },
  {
   "cell_type": "code",
   "execution_count": null,
   "metadata": {},
   "outputs": [],
   "source": [
    "## Matlab up to 7.1 = mat files created with Matlab up to version 7.1 can be read using the mio module part of scipy.io.\n",
    "#from scipy.io import loadmat \n",
    "#\n",
    "## Beginning at release 7.3 of Matlab, mat files are actually saved using the HDF5 format by default (except if you use the -vX flag at save time, see in Matlab). These files can be read in Python using, for instance, the PyTables or h5py package\n",
    "#import tables \n",
    "#import h5py"
   ]
  },
  {
   "cell_type": "code",
   "execution_count": null,
   "metadata": {},
   "outputs": [],
   "source": [
    "## Get the ggplot - oriented Python library\n",
    "#!sudo -H -S pip3 install -t \"/home/haris/anaconda3/lib/python3.7/site-packages/\" --upgrade pandas plotnine \\\n",
    "#< /home/haris/Desktop/running/metabolic_network_pipeline_volestipy/my_project_virtual_env/error.txt\n",
    "#print(\"*** The ggplot for Python library has now been installed *** \\n\\n\")"
   ]
  },
  {
   "cell_type": "code",
   "execution_count": null,
   "metadata": {},
   "outputs": [],
   "source": []
  },
  {
   "cell_type": "code",
   "execution_count": null,
   "metadata": {},
   "outputs": [],
   "source": [
    "#mat_file_with_loadmat = loadmat('/home/haris/Downloads/e_coli_core.mat')"
   ]
  },
  {
   "cell_type": "markdown",
   "metadata": {},
   "source": [
    "While this one is in case of ```.mat``` files created by releases of Matlab later after the 7.3\n",
    "This command will not run in any other case.\n",
    "For this demo we will use the ```loadmat``` option."
   ]
  },
  {
   "cell_type": "code",
   "execution_count": null,
   "metadata": {},
   "outputs": [],
   "source": [
    "# mat_file_with_tables = h5py.File('/home/haris/Downloads/e_coli_core.mat')"
   ]
  },
  {
   "cell_type": "markdown",
   "metadata": {},
   "source": [
    "Now you can see your metabolic network. "
   ]
  },
  {
   "cell_type": "code",
   "execution_count": null,
   "metadata": {},
   "outputs": [],
   "source": [
    "print(mat_file_with_loadmat)"
   ]
  },
  {
   "cell_type": "code",
   "execution_count": null,
   "metadata": {},
   "outputs": [],
   "source": [
    "#data_from_mat = mat_file_with_loadmat\n",
    "#print(\"the data type of the variable with the network as it was read is: \" + str(type(data_from_mat)))\n",
    "\n",
    "#s_matrix = data_from_mat.keys()\n",
    "#print(\"\\nthe keys of this dictionaries are: \")\n",
    "#print(s_matrix)\n",
    "\n",
    "#e_coli_np_void = data_from_mat['e_coli_core'][0][0]\n",
    "#print(\"\\nHowever, if we keep the key:value pair of this dictionary, called 'e_coli_core' where the necessary \\\n",
    "#information is located, we can see that its type is: \" + str(type(e_coli_np_void)) + \"\\n\\n\")\n",
    "\n",
    "#print(\"number of dimensions of the np.void data type equals to:\" + str(e_coli_np_void.ndim) + \"\\n\")\n",
    "\n",
    "#print(type(e_coli_np_void))\n",
    "#print(len(e_coli_np_void))\n",
    "\n",
    "\n",
    "\n",
    "## metabolites\n",
    "#print(type(e_coli_np_void[0]))\n",
    "#print(e_coli_np_void[0].shape)\n",
    "\n",
    "#print(type(e_coli_np_void[0][0]))\n",
    "#print(e_coli_np_void[0][0].shape)\n",
    "\n",
    "#print(e_coli_np_void[0][:3,])\n",
    "#metabolites = [item[0][0] for item in e_coli_np_void[0]]\n",
    "#print(metabolites)\n",
    "\n",
    "## genes\n",
    "#print(type(e_coli_np_void[4]))\n",
    "#print(e_coli_np_void[4].shape)\n",
    "#print(e_coli_np_void[4][:3,])\n",
    "\n",
    "## reactions\n",
    "#print(type(e_coli_np_void[7]))\n",
    "#print(e_coli_np_void[7].shape)\n",
    "#print(e_coli_np_void[7][:3,])"
   ]
  },
  {
   "cell_type": "code",
   "execution_count": null,
   "metadata": {},
   "outputs": [],
   "source": []
  },
  {
   "cell_type": "code",
   "execution_count": null,
   "metadata": {},
   "outputs": [],
   "source": [
    "#for key,value in data_from_mat.items():\n",
    "#    print(str(key) + \"\\t\" + str(value))\n",
    "#    print(\"\\n\\n\\n\\n\\n\\n\")"
   ]
  }
 ],
 "metadata": {
  "kernelspec": {
   "display_name": "Python 3",
   "language": "python",
   "name": "python3"
  },
  "language_info": {
   "codemirror_mode": {
    "name": "ipython",
    "version": 3
   },
   "file_extension": ".py",
   "mimetype": "text/x-python",
   "name": "python",
   "nbconvert_exporter": "python",
   "pygments_lexer": "ipython3",
   "version": "3.6.12"
  }
 },
 "nbformat": 4,
 "nbformat_minor": 2
}
